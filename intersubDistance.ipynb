{
 "cells": [
  {
   "cell_type": "markdown",
   "metadata": {},
   "source": [
    "# This notebook takes a pdb file and identifies intersubunit interactions within a user-chosen radius in angstroms. The file output is a .pml text file that can be run in the PyMol command line with the '@' command."
   ]
  },
  {
   "cell_type": "code",
   "execution_count": 20,
   "metadata": {},
   "outputs": [],
   "source": [
    "import numpy as np\n",
    "import string"
   ]
  },
  {
   "cell_type": "code",
   "execution_count": 2,
   "metadata": {},
   "outputs": [
    {
     "name": "stdout",
     "output_type": "stream",
     "text": [
      "Type filename here (include .pdb): 8dwk.pdb\n"
     ]
    }
   ],
   "source": [
    "pdbNAME = input('Type filename here (include .pdb): ')"
   ]
  },
  {
   "cell_type": "code",
   "execution_count": 3,
   "metadata": {},
   "outputs": [
    {
     "name": "stdout",
     "output_type": "stream",
     "text": [
      "Type distance limit in angstroms: 3\n"
     ]
    }
   ],
   "source": [
    "angsLimit = input('Type distance limit in angstroms: ')"
   ]
  },
  {
   "cell_type": "code",
   "execution_count": 25,
   "metadata": {},
   "outputs": [
    {
     "name": "stdout",
     "output_type": "stream",
     "text": [
      "Type the chains you want to include in the analysis (separated by commas): a, b, c\n"
     ]
    }
   ],
   "source": [
    "chainInput = list(input('Type the chains you want to include in the analysis (separated by commas): ').upper())\n",
    "chainList = [n for n in chainInput if n in list(string.ascii_uppercase)]"
   ]
  },
  {
   "cell_type": "code",
   "execution_count": 27,
   "metadata": {},
   "outputs": [],
   "source": [
    "# /6njm//C/GLN`28/CA\n",
    "pmbCode = pdbNAME[0:4]\n",
    "fileName = pmbCode + '_intersubDistance.pml'\n",
    "pmlFile = open(fileName, 'w')\n",
    "pmlFile = open(fileName, 'a')"
   ]
  },
  {
   "cell_type": "code",
   "execution_count": 28,
   "metadata": {},
   "outputs": [
    {
     "name": "stdout",
     "output_type": "stream",
     "text": [
      "<class 'list'>\n",
      "2.9324216954592295 ATOM   3387  NH1 ARG B -----  ATOM   1755  O   ARG A\n",
      "2.612060680765284 ATOM   3435  OH  TYR B -----  ATOM   1747  O   ASP A\n",
      "2.7293940719507725 ATOM   3467  NZ  LYS B -----  ATOM   1747  O   ASP A\n",
      "2.787276269048333 ATOM   4089  O   ASP B -----  ATOM   1089  OH  TYR A\n",
      "2.9628138652301472 ATOM   4089  O   ASP B -----  ATOM   1121  NZ  LYS A\n",
      "2.9827058185479833 ATOM   4097  O   ARG B -----  ATOM   1041  NH1 ARG A\n",
      "2.847861127232154 ATOM   4716  O   SER C -----  ATOM    918  ND2 ASN A\n",
      "2.8841567225100646 ATOM   4727  N   THR C -----  ATOM    905  O   GLU A\n",
      "2.482167601109966 ATOM   4730  O   THR C -----  ATOM    393  N   GLU A\n",
      "2.571272253185182 ATOM   4742  N   LYS C -----  ATOM    379  O   GLU A\n",
      "2.6087075343932282 ATOM   4754  O   LYS C -----  ATOM   1349  NZ  LYS A\n",
      "2.8498987701320204 ATOM   4759  NZ  LYS C -----  ATOM   2264  O   GLU A\n",
      "2.9159180372568794 ATOM   4779  O   GLU C -----  ATOM   2289  N   CYS A\n",
      "2.8763801904477098 ATOM   4830  O   VAL C -----  ATOM   2026  OH  TYR A\n",
      "2.8562263565761037 ATOM   4849  ND2 ASN C -----  ATOM   2018  O   TYR A\n",
      "2.8670906856951683 ATOM   4857  OE1 GLU C -----  ATOM   2063  N   LYS A\n",
      "2.923945963932985 ATOM   4888  NE  ARG C -----  ATOM   2009  OD1 ASP A\n",
      "2.8068890252377265 ATOM   4888  NE  ARG C -----  ATOM   2010  OD2 ASP A\n",
      "2.999508293037378 ATOM   4918  O   LYS C -----  ATOM   1761  NH1 ARG A\n",
      "END\n"
     ]
    }
   ],
   "source": [
    "openedPDB = open(pdbNAME)\n",
    "readPDB = openedPDB.read()\n",
    "\n",
    "PDBlines = readPDB.split('\\n')\n",
    "\n",
    "atomXYZ_chain = {}\n",
    "for line in PDBlines:\n",
    "\n",
    "    if line[0:4] =='ATOM':\n",
    "        if line[21] in atomXYZ_chain: #if line[21] is a key in dic atomXYZ_chain:\n",
    "            atomXYZ_chain[line[21]].append(line) #append that dic value, which should be a list, with the line\n",
    "        else:         #else make a new key with value = CHAIN with the list containing the line\n",
    "            atomXYZ_chain[line[21]] = [line]\n",
    "#now you have a dictionary with keys of chains and values for each key(chain) of lines of that chain\n",
    "#ex. print(atomXYZ_chain['A']) gives you a list of the PDB lines for that chain\n",
    "\n",
    "print(type(list(atomXYZ_chain.keys())))\n",
    "for chain0 in chainList: #for every chain ['A', 'B', 'C', 'D']\n",
    "    for lineN in atomXYZ_chain[chain0]: #for every item in list, i.e. every PDB line (atom) in the chain's list\n",
    "        #print(lineN)\n",
    "        x0 = float(lineN[31:38])\n",
    "        y0 = float(lineN[39:46])\n",
    "        z0 = float(lineN[47:55])\n",
    "        \n",
    "        for chain1 in ['A', 'B', 'C', 'D']:\n",
    "            if chain1 != chain0:\n",
    "                for lineM in atomXYZ_chain[chain1]:\n",
    "                    x1 = float(lineM[31:38])\n",
    "                    y1 = float(lineM[39:46])\n",
    "                    z1 = float(lineM[47:55])\n",
    "                    xzDist = (((z1-z0)**2)+((y1-y0)**2))**.5\n",
    "                    xyzDist = np.sqrt((xzDist)**2+(x1-x0)**2)\n",
    "                    if xyzDist < float(angsLimit):\n",
    "                        print(xyzDist, lineN[0:22],'----- ', lineM[0:22])\n",
    "                        \n",
    "                        \n",
    "                        #below writes to the pml file that you want to run in pymol command line to generate bond distance labels\n",
    "                        pmlFile.write('dist' + ' ' + 'dist' + '_' + lineN[23:31].replace(' ', '') + '_' + lineM[23:31].replace(' ','') + ','  + '/' + pmbCode + '//' + lineN[21] + '/' + lineN[17:20] + '`' + lineN[23:31].replace(' ', '') + '/' + lineN[13:15].replace(' ', '')+ ',' + '/' + pmbCode + '//' + lineM[21] + '/' + lineM[17:20] + '`' + lineM[23:31].replace(' ', '') + '/' + lineM[13:15].replace(' ', '')+ '\\n')\n",
    "                        \n",
    "                        \n",
    "                        \n",
    "                        \n",
    "                        \n",
    "            elif chain1 == chain0:\n",
    "                break\n",
    "print('END')"
   ]
  },
  {
   "cell_type": "code",
   "execution_count": 29,
   "metadata": {},
   "outputs": [],
   "source": [
    "pmlFile.close()"
   ]
  },
  {
   "cell_type": "code",
   "execution_count": null,
   "metadata": {},
   "outputs": [],
   "source": []
  }
 ],
 "metadata": {
  "kernelspec": {
   "display_name": "Python 3",
   "language": "python",
   "name": "python3"
  },
  "language_info": {
   "codemirror_mode": {
    "name": "ipython",
    "version": 3
   },
   "file_extension": ".py",
   "mimetype": "text/x-python",
   "name": "python",
   "nbconvert_exporter": "python",
   "pygments_lexer": "ipython3",
   "version": "3.8.5"
  }
 },
 "nbformat": 4,
 "nbformat_minor": 4
}
